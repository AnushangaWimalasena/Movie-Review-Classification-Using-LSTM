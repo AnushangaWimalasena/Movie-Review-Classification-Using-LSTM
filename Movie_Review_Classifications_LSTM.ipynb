{
  "nbformat": 4,
  "nbformat_minor": 0,
  "metadata": {
    "colab": {
      "name": "Movie Review Classifications LSTM.ipynb",
      "provenance": [],
      "collapsed_sections": [],
      "toc_visible": true,
      "include_colab_link": true
    },
    "kernelspec": {
      "name": "python3",
      "display_name": "Python 3"
    },
    "language_info": {
      "name": "python"
    }
  },
  "cells": [
    {
      "cell_type": "markdown",
      "metadata": {
        "id": "view-in-github",
        "colab_type": "text"
      },
      "source": [
        "<a href=\"https://colab.research.google.com/github/AnushangaWimalasena/Movie-Review-Classification-Using-LSTM/blob/main/Movie_Review_Classifications_LSTM.ipynb\" target=\"_parent\"><img src=\"https://colab.research.google.com/assets/colab-badge.svg\" alt=\"Open In Colab\"/></a>"
      ]
    },
    {
      "cell_type": "markdown",
      "metadata": {
        "id": "WtqsMuWjUrmt"
      },
      "source": [
        "# ***Load Data***"
      ]
    },
    {
      "cell_type": "code",
      "metadata": {
        "id": "8PiUBwKvy1r5"
      },
      "source": [
        "!pip install unidecode\n",
        "!pip install word2number\n",
        "!pip install contractions\n",
        "\n",
        "!pip install spacy --user\n",
        "# !python -m spacy download en_core_web_sm      #for small\n",
        "# !python -m spacy download en_core_web_md      #for medium  \n",
        "# !python -m spacy download en_core_web_lg "
      ],
      "execution_count": null,
      "outputs": []
    },
    {
      "cell_type": "code",
      "metadata": {
        "id": "7NzgFPqAqUOc"
      },
      "source": [
        "# from google.colab import drive\n",
        "# drive.mount('/content/drive')"
      ],
      "execution_count": null,
      "outputs": []
    },
    {
      "cell_type": "code",
      "metadata": {
        "id": "m6uLFJ39SNWx"
      },
      "source": [
        "import pandas as pd\n",
        "from sklearn.utils import shuffle"
      ],
      "execution_count": null,
      "outputs": []
    },
    {
      "cell_type": "code",
      "metadata": {
        "id": "1n5pnQS9Sm5J"
      },
      "source": [
        "data = pd.read_csv(\"/content/drive/MyDrive/IS/IMDB Dataset.csv\", encoding=\"latin1\")"
      ],
      "execution_count": null,
      "outputs": []
    },
    {
      "cell_type": "code",
      "metadata": {
        "id": "_vsuuWv0Tkxn",
        "colab": {
          "base_uri": "https://localhost:8080/",
          "height": 194
        },
        "outputId": "51c2e70c-7c43-43c5-e24b-794371ca4d8d"
      },
      "source": [
        "data.head()"
      ],
      "execution_count": null,
      "outputs": [
        {
          "output_type": "execute_result",
          "data": {
            "text/html": [
              "<div>\n",
              "<style scoped>\n",
              "    .dataframe tbody tr th:only-of-type {\n",
              "        vertical-align: middle;\n",
              "    }\n",
              "\n",
              "    .dataframe tbody tr th {\n",
              "        vertical-align: top;\n",
              "    }\n",
              "\n",
              "    .dataframe thead th {\n",
              "        text-align: right;\n",
              "    }\n",
              "</style>\n",
              "<table border=\"1\" class=\"dataframe\">\n",
              "  <thead>\n",
              "    <tr style=\"text-align: right;\">\n",
              "      <th></th>\n",
              "      <th>review</th>\n",
              "      <th>sentiment</th>\n",
              "    </tr>\n",
              "  </thead>\n",
              "  <tbody>\n",
              "    <tr>\n",
              "      <th>0</th>\n",
              "      <td>One of the other reviewers has mentioned that ...</td>\n",
              "      <td>positive</td>\n",
              "    </tr>\n",
              "    <tr>\n",
              "      <th>1</th>\n",
              "      <td>A wonderful little production. &lt;br /&gt;&lt;br /&gt;The...</td>\n",
              "      <td>positive</td>\n",
              "    </tr>\n",
              "    <tr>\n",
              "      <th>2</th>\n",
              "      <td>I thought this was a wonderful way to spend ti...</td>\n",
              "      <td>positive</td>\n",
              "    </tr>\n",
              "    <tr>\n",
              "      <th>3</th>\n",
              "      <td>Basically there's a family where a little boy ...</td>\n",
              "      <td>negative</td>\n",
              "    </tr>\n",
              "    <tr>\n",
              "      <th>4</th>\n",
              "      <td>Petter Mattei's \"Love in the Time of Money\" is...</td>\n",
              "      <td>positive</td>\n",
              "    </tr>\n",
              "  </tbody>\n",
              "</table>\n",
              "</div>"
            ],
            "text/plain": [
              "                                              review sentiment\n",
              "0  One of the other reviewers has mentioned that ...  positive\n",
              "1  A wonderful little production. <br /><br />The...  positive\n",
              "2  I thought this was a wonderful way to spend ti...  positive\n",
              "3  Basically there's a family where a little boy ...  negative\n",
              "4  Petter Mattei's \"Love in the Time of Money\" is...  positive"
            ]
          },
          "metadata": {
            "tags": []
          },
          "execution_count": 29
        }
      ]
    },
    {
      "cell_type": "code",
      "metadata": {
        "id": "06VqfkSrTpNh",
        "colab": {
          "base_uri": "https://localhost:8080/",
          "height": 142
        },
        "outputId": "0d8984ea-bc1e-4945-990d-714de45dc484"
      },
      "source": [
        "data['review'][0]"
      ],
      "execution_count": null,
      "outputs": [
        {
          "output_type": "execute_result",
          "data": {
            "application/vnd.google.colaboratory.intrinsic+json": {
              "type": "string"
            },
            "text/plain": [
              "\"One of the other reviewers has mentioned that after watching just 1 Oz episode you'll be hooked. They are right, as this is exactly what happened with me.<br /><br />The first thing that struck me about Oz was its brutality and unflinching scenes of violence, which set in right from the word GO. Trust me, this is not a show for the faint hearted or timid. This show pulls no punches with regards to drugs, sex or violence. Its is hardcore, in the classic use of the word.<br /><br />It is called OZ as that is the nickname given to the Oswald Maximum Security State Penitentary. It focuses mainly on Emerald City, an experimental section of the prison where all the cells have glass fronts and face inwards, so privacy is not high on the agenda. Em City is home to many..Aryans, Muslims, gangstas, Latinos, Christians, Italians, Irish and more....so scuffles, death stares, dodgy dealings and shady agreements are never far away.<br /><br />I would say the main appeal of the show is due to the fact that it goes where other shows wouldn't dare. Forget pretty pictures painted for mainstream audiences, forget charm, forget romance...OZ doesn't mess around. The first episode I ever saw struck me as so nasty it was surreal, I couldn't say I was ready for it, but as I watched more, I developed a taste for Oz, and got accustomed to the high levels of graphic violence. Not just violence, but injustice (crooked guards who'll be sold out for a nickel, inmates who'll kill on order and get away with it, well mannered, middle class inmates being turned into prison bitches due to their lack of street skills or prison experience) Watching Oz, you may become comfortable with what is uncomfortable viewing....thats if you can get in touch with your darker side.\""
            ]
          },
          "metadata": {
            "tags": []
          },
          "execution_count": 30
        }
      ]
    },
    {
      "cell_type": "markdown",
      "metadata": {
        "id": "E8Lmzca_UzRv"
      },
      "source": [
        "# ***Preprosessing***"
      ]
    },
    {
      "cell_type": "code",
      "metadata": {
        "id": "HfeyZWguUym8",
        "colab": {
          "base_uri": "https://localhost:8080/"
        },
        "outputId": "6e8e5f55-859a-4a66-9d91-c036e77fcb6e"
      },
      "source": [
        "from bs4 import BeautifulSoup\n",
        "import spacy\n",
        "import unidecode\n",
        "from word2number import w2n\n",
        "import contractions\n",
        "import string\n",
        "\n",
        "import nltk\n",
        "nltk.download(\"stopwords\")\n",
        "from nltk.corpus import stopwords\n",
        "sw_nltk = stopwords.words('english')\n",
        "sw_nltk.remove('not')\n",
        "sw_nltk.remove('no')\n",
        "\n",
        "from nltk.stem import WordNetLemmatizer\n",
        "nltk.download('punkt')\n",
        "nltk.download('wordnet')\n",
        "wordnet_lemmatizer = WordNetLemmatizer()\n",
        "\n",
        "import re\n",
        "# load spacy model, can be \"en_core_web_sm\" as well\n",
        "# nlp = spacy.load('en_core_web_md')"
      ],
      "execution_count": null,
      "outputs": [
        {
          "output_type": "stream",
          "text": [
            "[nltk_data] Downloading package stopwords to /root/nltk_data...\n",
            "[nltk_data]   Package stopwords is already up-to-date!\n",
            "[nltk_data] Downloading package punkt to /root/nltk_data...\n",
            "[nltk_data]   Package punkt is already up-to-date!\n",
            "[nltk_data] Downloading package wordnet to /root/nltk_data...\n",
            "[nltk_data]   Package wordnet is already up-to-date!\n"
          ],
          "name": "stdout"
        }
      ]
    },
    {
      "cell_type": "code",
      "metadata": {
        "id": "Bhe075yt9gjI"
      },
      "source": [
        "\n",
        "def strip_html_tags(text):\n",
        "    soup = BeautifulSoup(text, \"html.parser\")\n",
        "    stripped_text = soup.get_text(separator=\" \")\n",
        "    return stripped_text\n",
        "\n",
        "\n",
        "def remove_whitespace(text):\n",
        "    text = text.strip()\n",
        "    return \" \".join(text.split())\n",
        "\n",
        "def remove_accented_chars(text):\n",
        "    text = unidecode.unidecode(text)\n",
        "    return text\n",
        "\n",
        "def expand_contractions(text):\n",
        "    text = contractions.fix(text)\n",
        "    return text\n",
        "\n",
        "def remove_urls(text):\n",
        "\turl_pattern = r'https?://\\S+|www\\.\\S+'\n",
        "\twithout_urls = re.sub(pattern=url_pattern, repl=' ', string=text)\n",
        "\treturn without_urls\n",
        "\n",
        "def remove_numbers(text):\n",
        "\tnumber_pattern = r'\\d+'\n",
        "\twithout_number = re.sub(pattern=number_pattern, repl=\" \", string=text)\n",
        "\treturn without_number\n",
        "\n",
        "def word_lemmatizer(text):\n",
        "  sentence_words = nltk.word_tokenize(text)\n",
        "\n",
        "  final_txt = []\n",
        "  for word in sentence_words:\n",
        "    word = word.lower()\n",
        "    final_txt.append(wordnet_lemmatizer.lemmatize(word, pos=\"v\"))\n",
        "  \n",
        "  return final_txt\n",
        "\n",
        "def remove_stopwords(text):\n",
        "  words = [word for word in text.split() if word.lower() not in sw_nltk]\n",
        "  new_text = \" \".join(words)\n",
        "  return new_text\n",
        "\n",
        "\n",
        "def remove_punctuations(text):\n",
        "  exclist = string.punctuation + string.digits\n",
        "  # remove punctuations and digits from oldtext\n",
        "  table_ = str.maketrans('', '', exclist)\n",
        "  newtext = text.translate(table_)\n",
        "  return newtext\n",
        "\n",
        "def text_preprocessing(text):\n",
        "  text = strip_html_tags(text)\n",
        "  text = remove_urls(text)\n",
        "  text = remove_accented_chars(text)\n",
        "  text = expand_contractions(text)\n",
        "  text = remove_punctuations(text)\n",
        "  text = remove_stopwords(text)\n",
        "  text = word_lemmatizer(text)\n",
        "\n",
        "  return text"
      ],
      "execution_count": null,
      "outputs": []
    },
    {
      "cell_type": "code",
      "metadata": {
        "id": "iJo0FDzLcfFN"
      },
      "source": [
        "from sklearn.model_selection import train_test_split \n",
        "\n",
        "data['review'] = data['review'].apply(text_preprocessing)"
      ],
      "execution_count": null,
      "outputs": []
    },
    {
      "cell_type": "code",
      "metadata": {
        "id": "Wz7Bs8ardEwZ"
      },
      "source": [
        "x_data = data['review']\n",
        "y_data = data['sentiment']\n",
        "y_data = y_data.replace('positive', 1)\n",
        "y_data = y_data.replace('negative', 0)"
      ],
      "execution_count": null,
      "outputs": []
    },
    {
      "cell_type": "code",
      "metadata": {
        "id": "RnUCnA-XdeWX"
      },
      "source": [
        "x_train, x_test, y_train, y_test = train_test_split(x_data, y_data, test_size = 0.2)"
      ],
      "execution_count": null,
      "outputs": []
    },
    {
      "cell_type": "code",
      "metadata": {
        "id": "-dah3C5vdjjH"
      },
      "source": [
        "import numpy as np\n",
        "\n",
        "def get_max_length():\n",
        "    review_length = []\n",
        "    for review in x_train:\n",
        "        review_length.append(len(review))\n",
        "\n",
        "    return int(np.ceil(np.mean(review_length)))"
      ],
      "execution_count": null,
      "outputs": []
    },
    {
      "cell_type": "code",
      "metadata": {
        "id": "lnhgcwt6duOX",
        "colab": {
          "base_uri": "https://localhost:8080/"
        },
        "outputId": "ff1d0397-c3f5-447e-f3af-8b4ae233ad59"
      },
      "source": [
        "from tensorflow.keras.preprocessing.text import Tokenizer\n",
        "from tensorflow.keras.preprocessing.sequence import pad_sequences\n",
        "\n",
        "token = Tokenizer(lower=False)    # no need lower, because already lowered \n",
        "token.fit_on_texts(x_train)\n",
        "x_train = token.texts_to_sequences(x_train)\n",
        "x_test = token.texts_to_sequences(x_test)\n",
        "\n",
        "max_length = get_max_length()\n",
        "\n",
        "x_train = pad_sequences(x_train, maxlen=max_length, padding='post', truncating='post')\n",
        "x_test = pad_sequences(x_test, maxlen=max_length, padding='post', truncating='post')\n",
        "\n",
        "total_words = len(token.word_index) + 1   # add 1 because of 0 padding\n",
        "\n",
        "print('Encoded X Train\\n', x_train, '\\n')\n",
        "print('Encoded X Test\\n', x_test, '\\n')\n",
        "print('Maximum review length: ', max_length)"
      ],
      "execution_count": null,
      "outputs": [
        {
          "output_type": "stream",
          "text": [
            "Encoded X Train\n",
            " [[    1   144  3379 ...  8019  1889   268]\n",
            " [57000  1699  1509 ...     0     0     0]\n",
            " [  194     2  1545 ...     0     0     0]\n",
            " ...\n",
            " [  289     3    35 ...     0     0     0]\n",
            " [   48     7   654 ...     0     0     0]\n",
            " [ 4728    44   638 ...     0     0     0]] \n",
            "\n",
            "Encoded X Test\n",
            " [[   34  8465 13290 ...     0     0     0]\n",
            " [  476  4312  4702 ...     0     0     0]\n",
            " [  155    40  1068 ...    11   403  1514]\n",
            " ...\n",
            " [  885     4   256 ...     0     0     0]\n",
            " [    2   264   371 ...     0     0     0]\n",
            " [  954    18   168 ... 13310   360    24]] \n",
            "\n",
            "Maximum review length:  120\n"
          ],
          "name": "stdout"
        }
      ]
    },
    {
      "cell_type": "markdown",
      "metadata": {
        "id": "A6d7pLOd1Kbd"
      },
      "source": [
        "# ***LSTM Model***"
      ]
    },
    {
      "cell_type": "code",
      "metadata": {
        "colab": {
          "base_uri": "https://localhost:8080/"
        },
        "id": "4p9VeI7NeFJV",
        "outputId": "5d873752-6058-4dae-9b6b-c0187e538d50"
      },
      "source": [
        "from tensorflow.keras.models import Sequential \n",
        "from tensorflow.keras.layers import Embedding, LSTM, Dense\n",
        "\n",
        "EMBED_DIM = 32\n",
        "LSTM_OUT = 64\n",
        "\n",
        "model = Sequential()\n",
        "model.add(Embedding(total_words, EMBED_DIM, input_length = max_length))\n",
        "model.add(LSTM(LSTM_OUT))\n",
        "model.add(Dense(1, activation='sigmoid'))\n",
        "model.compile(optimizer = 'adam', loss = 'binary_crossentropy', metrics = ['accuracy'])\n",
        "\n",
        "print(model.summary())"
      ],
      "execution_count": null,
      "outputs": [
        {
          "output_type": "stream",
          "text": [
            "Model: \"sequential_1\"\n",
            "_________________________________________________________________\n",
            "Layer (type)                 Output Shape              Param #   \n",
            "=================================================================\n",
            "embedding_1 (Embedding)      (None, 120, 32)           4203584   \n",
            "_________________________________________________________________\n",
            "lstm_1 (LSTM)                (None, 64)                24832     \n",
            "_________________________________________________________________\n",
            "dense_1 (Dense)              (None, 1)                 65        \n",
            "=================================================================\n",
            "Total params: 4,228,481\n",
            "Trainable params: 4,228,481\n",
            "Non-trainable params: 0\n",
            "_________________________________________________________________\n",
            "None\n"
          ],
          "name": "stdout"
        }
      ]
    },
    {
      "cell_type": "code",
      "metadata": {
        "id": "xduEKGHseSL-"
      },
      "source": [
        "from tensorflow.keras.callbacks import ModelCheckpoint\n",
        "\n",
        "checkpoint = ModelCheckpoint(\n",
        "    'models/LSTM.h5',\n",
        "    monitor='accuracy',\n",
        "    save_best_only=True,\n",
        "    verbose=2\n",
        ")"
      ],
      "execution_count": null,
      "outputs": []
    },
    {
      "cell_type": "code",
      "metadata": {
        "colab": {
          "base_uri": "https://localhost:8080/"
        },
        "id": "s6rmr1sleVUx",
        "outputId": "29f8f0d9-5b46-4258-b80d-e8669fb6e1ba"
      },
      "source": [
        "history = model.fit(x_train, y_train, batch_size = 128, epochs = 10, verbose=2, callbacks=[checkpoint])"
      ],
      "execution_count": null,
      "outputs": [
        {
          "output_type": "stream",
          "text": [
            "Epoch 1/10\n",
            "313/313 - 60s - loss: 0.4735 - accuracy: 0.7514\n",
            "\n",
            "Epoch 00001: accuracy improved from -inf to 0.75140, saving model to models/LSTM.h5\n",
            "Epoch 2/10\n",
            "313/313 - 57s - loss: 0.2185 - accuracy: 0.9217\n",
            "\n",
            "Epoch 00002: accuracy improved from 0.75140 to 0.92170, saving model to models/LSTM.h5\n",
            "Epoch 3/10\n",
            "313/313 - 57s - loss: 0.1266 - accuracy: 0.9602\n",
            "\n",
            "Epoch 00003: accuracy improved from 0.92170 to 0.96017, saving model to models/LSTM.h5\n",
            "Epoch 4/10\n",
            "313/313 - 55s - loss: 0.0772 - accuracy: 0.9769\n",
            "\n",
            "Epoch 00004: accuracy improved from 0.96017 to 0.97695, saving model to models/LSTM.h5\n",
            "Epoch 5/10\n",
            "313/313 - 55s - loss: 0.0546 - accuracy: 0.9840\n",
            "\n",
            "Epoch 00005: accuracy improved from 0.97695 to 0.98403, saving model to models/LSTM.h5\n",
            "Epoch 6/10\n",
            "313/313 - 56s - loss: 0.0384 - accuracy: 0.9898\n",
            "\n",
            "Epoch 00006: accuracy improved from 0.98403 to 0.98985, saving model to models/LSTM.h5\n",
            "Epoch 7/10\n",
            "313/313 - 55s - loss: 0.0419 - accuracy: 0.9889\n",
            "\n",
            "Epoch 00007: accuracy did not improve from 0.98985\n",
            "Epoch 8/10\n",
            "313/313 - 54s - loss: 0.0264 - accuracy: 0.9936\n",
            "\n",
            "Epoch 00008: accuracy improved from 0.98985 to 0.99355, saving model to models/LSTM.h5\n",
            "Epoch 9/10\n",
            "313/313 - 56s - loss: 0.0266 - accuracy: 0.9933\n",
            "\n",
            "Epoch 00009: accuracy did not improve from 0.99355\n",
            "Epoch 10/10\n",
            "313/313 - 54s - loss: 0.0252 - accuracy: 0.9937\n",
            "\n",
            "Epoch 00010: accuracy improved from 0.99355 to 0.99373, saving model to models/LSTM.h5\n"
          ],
          "name": "stdout"
        }
      ]
    },
    {
      "cell_type": "markdown",
      "metadata": {
        "id": "tNjth_K61SFY"
      },
      "source": [
        "# ***Testing***"
      ]
    },
    {
      "cell_type": "code",
      "metadata": {
        "colab": {
          "base_uri": "https://localhost:8080/"
        },
        "id": "p7wlBM5dfNZ9",
        "outputId": "992427d9-7d5b-4682-ae1f-31f5d6936d61"
      },
      "source": [
        "results = model.evaluate(x_test, y_test, batch_size=128)\n",
        "print(\"test loss, test acc:\", results)"
      ],
      "execution_count": null,
      "outputs": [
        {
          "output_type": "stream",
          "text": [
            "79/79 [==============================] - 4s 48ms/step - loss: 0.7232 - accuracy: 0.8547\n",
            "test loss, test acc: [0.7231782078742981, 0.8547000288963318]\n"
          ],
          "name": "stdout"
        }
      ]
    },
    {
      "cell_type": "code",
      "metadata": {
        "id": "Oqp2214LepDn",
        "colab": {
          "base_uri": "https://localhost:8080/"
        },
        "outputId": "503b50fc-d2b5-4bb1-c68c-43f7126ee3bb"
      },
      "source": [
        "pred = model.predict(x=x_test)\n",
        "y_pred = (pred >= 0.7) * 1\n",
        "y_pred"
      ],
      "execution_count": null,
      "outputs": [
        {
          "output_type": "execute_result",
          "data": {
            "text/plain": [
              "array([[0],\n",
              "       [1],\n",
              "       [1],\n",
              "       ...,\n",
              "       [0],\n",
              "       [0],\n",
              "       [1]])"
            ]
          },
          "metadata": {
            "tags": []
          },
          "execution_count": 42
        }
      ]
    },
    {
      "cell_type": "code",
      "metadata": {
        "colab": {
          "base_uri": "https://localhost:8080/",
          "height": 476
        },
        "id": "PjLfFu4r3bMu",
        "outputId": "91225857-6455-4278-b825-787534f253ad"
      },
      "source": [
        "from sklearn.metrics import confusion_matrix\n",
        "import pandas as pd\n",
        "import seaborn as sn\n",
        "import matplotlib.pyplot as plt\n",
        "%matplotlib inline\n",
        "import numpy as np\n",
        "\n",
        "data = confusion_matrix(y_test, y_pred)\n",
        "df_cm = pd.DataFrame(data, columns=np.unique(y_test), index = np.unique(y_test))\n",
        "df_cm.index.name = 'Actual'\n",
        "df_cm.columns.name = 'Predicted'\n",
        "plt.figure(figsize = (10,7))\n",
        "sn.set(font_scale=1.4)#for label size\n",
        "sn.heatmap(df_cm, cmap=\"Blues\", annot=True,annot_kws={\"size\": 16})# font size"
      ],
      "execution_count": null,
      "outputs": [
        {
          "output_type": "execute_result",
          "data": {
            "text/plain": [
              "<matplotlib.axes._subplots.AxesSubplot at 0x7f34b2e560d0>"
            ]
          },
          "metadata": {
            "tags": []
          },
          "execution_count": 43
        },
        {
          "output_type": "display_data",
          "data": {
            "image/png": "[encoded data removed]",
            "text/plain": [
              "<Figure size 720x504 with 2 Axes>"
            ]
          },
          "metadata": {
            "tags": [],
            "needs_background": "light"
          }
        }
      ]
    },
    {
      "cell_type": "code",
      "metadata": {
        "colab": {
          "base_uri": "https://localhost:8080/"
        },
        "id": "Teh-JjZG9_Zv",
        "outputId": "0992fccb-b60e-4968-9482-b32ceb5a8cfa"
      },
      "source": [
        "print(history.history.keys())"
      ],
      "execution_count": null,
      "outputs": [
        {
          "output_type": "stream",
          "text": [
            "dict_keys(['loss', 'accuracy'])\n"
          ],
          "name": "stdout"
        }
      ]
    },
    {
      "cell_type": "code",
      "metadata": {
        "colab": {
          "base_uri": "https://localhost:8080/",
          "height": 315
        },
        "id": "cArWkXlq-sNw",
        "outputId": "475d70a5-c6d8-48bd-dd88-d8b0ba8388ad"
      },
      "source": [
        "plt.plot(history.history['accuracy'])\n",
        "plt.title('model accuracy')\n",
        "plt.ylabel('accuracy')\n",
        "plt.xlabel('epoch')\n",
        "plt.show()"
      ],
      "execution_count": null,
      "outputs": [
        {
          "output_type": "display_data",
          "data": {
            "image/png": "[encoded data removed]",
            "text/plain": [
              "<Figure size 432x288 with 1 Axes>"
            ]
          },
          "metadata": {
            "tags": []
          }
        }
      ]
    },
    {
      "cell_type": "code",
      "metadata": {
        "colab": {
          "base_uri": "https://localhost:8080/",
          "height": 315
        },
        "id": "07NawbEuHydy",
        "outputId": "f56e8fae-e3b2-46ae-fade-64e904f1197a"
      },
      "source": [
        "plt.plot(history.history['loss'])\n",
        "plt.title('model loss')\n",
        "plt.ylabel('loss')\n",
        "plt.xlabel('epoch')\n",
        "plt.show()"
      ],
      "execution_count": null,
      "outputs": [
        {
          "output_type": "display_data",
          "data": {
            "image/png": "[encoded data removed]",
            "text/plain": [
              "<Figure size 432x288 with 1 Axes>"
            ]
          },
          "metadata": {
            "tags": []
          }
        }
      ]
    },
    {
      "cell_type": "code",
      "metadata": {
        "colab": {
          "base_uri": "https://localhost:8080/"
        },
        "id": "mFn36vGgWzem",
        "outputId": "74e88788-ed23-4e9f-dd2e-0f8afcd1962a"
      },
      "source": [
        "from sklearn.metrics import  classification_report\n",
        "print(classification_report(y_test, y_pred))"
      ],
      "execution_count": null,
      "outputs": [
        {
          "output_type": "stream",
          "text": [
            "              precision    recall  f1-score   support\n",
            "\n",
            "           0       0.85      0.87      0.86      4917\n",
            "           1       0.87      0.85      0.86      5083\n",
            "\n",
            "    accuracy                           0.86     10000\n",
            "   macro avg       0.86      0.86      0.86     10000\n",
            "weighted avg       0.86      0.86      0.86     10000\n",
            "\n"
          ],
          "name": "stdout"
        }
      ]
    },
    {
      "cell_type": "markdown",
      "metadata": {
        "id": "pFsKNRe-0OL4"
      },
      "source": [
        "# ***Custom Movie Review***"
      ]
    },
    {
      "cell_type": "code",
      "metadata": {
        "id": "4KkqqWHIz3fI"
      },
      "source": [
        "cus_rev = pd.read_csv('/content/custom reviews.csv')"
      ],
      "execution_count": null,
      "outputs": []
    },
    {
      "cell_type": "code",
      "metadata": {
        "colab": {
          "base_uri": "https://localhost:8080/",
          "height": 194
        },
        "id": "cyiT0sMp0ix3",
        "outputId": "79347d3f-85b1-4539-d50e-3695919e239a"
      },
      "source": [
        "cus_rev.head()"
      ],
      "execution_count": null,
      "outputs": [
        {
          "output_type": "execute_result",
          "data": {
            "text/html": [
              "<div>\n",
              "<style scoped>\n",
              "    .dataframe tbody tr th:only-of-type {\n",
              "        vertical-align: middle;\n",
              "    }\n",
              "\n",
              "    .dataframe tbody tr th {\n",
              "        vertical-align: top;\n",
              "    }\n",
              "\n",
              "    .dataframe thead th {\n",
              "        text-align: right;\n",
              "    }\n",
              "</style>\n",
              "<table border=\"1\" class=\"dataframe\">\n",
              "  <thead>\n",
              "    <tr style=\"text-align: right;\">\n",
              "      <th></th>\n",
              "      <th>review</th>\n",
              "      <th>sentiment</th>\n",
              "    </tr>\n",
              "  </thead>\n",
              "  <tbody>\n",
              "    <tr>\n",
              "      <th>0</th>\n",
              "      <td>excellent work by the whole cast and crew,and ...</td>\n",
              "      <td>positive</td>\n",
              "    </tr>\n",
              "    <tr>\n",
              "      <th>1</th>\n",
              "      <td>For me, enjoying a movie can be achieved by pr...</td>\n",
              "      <td>negative</td>\n",
              "    </tr>\n",
              "    <tr>\n",
              "      <th>2</th>\n",
              "      <td>The only thing I can write as an average Joe w...</td>\n",
              "      <td>positive</td>\n",
              "    </tr>\n",
              "    <tr>\n",
              "      <th>3</th>\n",
              "      <td>Second-hand embarrassment at its finest. Even ...</td>\n",
              "      <td>negative</td>\n",
              "    </tr>\n",
              "    <tr>\n",
              "      <th>4</th>\n",
              "      <td>This movie is one of the greatest of all time....</td>\n",
              "      <td>positive</td>\n",
              "    </tr>\n",
              "  </tbody>\n",
              "</table>\n",
              "</div>"
            ],
            "text/plain": [
              "                                              review sentiment\n",
              "0  excellent work by the whole cast and crew,and ...  positive\n",
              "1  For me, enjoying a movie can be achieved by pr...  negative\n",
              "2  The only thing I can write as an average Joe w...  positive\n",
              "3  Second-hand embarrassment at its finest. Even ...  negative\n",
              "4  This movie is one of the greatest of all time....  positive"
            ]
          },
          "metadata": {
            "tags": []
          },
          "execution_count": 59
        }
      ]
    },
    {
      "cell_type": "code",
      "metadata": {
        "id": "o8afue9h0m-m"
      },
      "source": [
        "cus_rev['review'] = cus_rev['review'].apply(text_preprocessing)"
      ],
      "execution_count": null,
      "outputs": []
    },
    {
      "cell_type": "code",
      "metadata": {
        "colab": {
          "base_uri": "https://localhost:8080/",
          "height": 194
        },
        "id": "FUISLSRO0sie",
        "outputId": "f8e2f6cf-1a56-4d7d-f870-54002ace391a"
      },
      "source": [
        "cus_rev.head()"
      ],
      "execution_count": null,
      "outputs": [
        {
          "output_type": "execute_result",
          "data": {
            "text/html": [
              "<div>\n",
              "<style scoped>\n",
              "    .dataframe tbody tr th:only-of-type {\n",
              "        vertical-align: middle;\n",
              "    }\n",
              "\n",
              "    .dataframe tbody tr th {\n",
              "        vertical-align: top;\n",
              "    }\n",
              "\n",
              "    .dataframe thead th {\n",
              "        text-align: right;\n",
              "    }\n",
              "</style>\n",
              "<table border=\"1\" class=\"dataframe\">\n",
              "  <thead>\n",
              "    <tr style=\"text-align: right;\">\n",
              "      <th></th>\n",
              "      <th>review</th>\n",
              "      <th>sentiment</th>\n",
              "    </tr>\n",
              "  </thead>\n",
              "  <tbody>\n",
              "    <tr>\n",
              "      <th>0</th>\n",
              "      <td>[excellent, work, whole, cast, crewand, always...</td>\n",
              "      <td>positive</td>\n",
              "    </tr>\n",
              "    <tr>\n",
              "      <th>1</th>\n",
              "      <td>[enjoy, movie, achieve, properly, manage, expe...</td>\n",
              "      <td>negative</td>\n",
              "    </tr>\n",
              "    <tr>\n",
              "      <th>2</th>\n",
              "      <td>[thing, write, average, joe, watch, movies, si...</td>\n",
              "      <td>positive</td>\n",
              "    </tr>\n",
              "    <tr>\n",
              "      <th>3</th>\n",
              "      <td>[secondhand, embarrassment, finest, even, pers...</td>\n",
              "      <td>negative</td>\n",
              "    </tr>\n",
              "    <tr>\n",
              "      <th>4</th>\n",
              "      <td>[movie, one, greatest, time, adapt, book, chuc...</td>\n",
              "      <td>positive</td>\n",
              "    </tr>\n",
              "  </tbody>\n",
              "</table>\n",
              "</div>"
            ],
            "text/plain": [
              "                                              review sentiment\n",
              "0  [excellent, work, whole, cast, crewand, always...  positive\n",
              "1  [enjoy, movie, achieve, properly, manage, expe...  negative\n",
              "2  [thing, write, average, joe, watch, movies, si...  positive\n",
              "3  [secondhand, embarrassment, finest, even, pers...  negative\n",
              "4  [movie, one, greatest, time, adapt, book, chuc...  positive"
            ]
          },
          "metadata": {
            "tags": []
          },
          "execution_count": 61
        }
      ]
    },
    {
      "cell_type": "code",
      "metadata": {
        "id": "rDpfLYMw0vEE"
      },
      "source": [
        "x_data_c = cus_rev['review']\n",
        "y_data_c = cus_rev['sentiment']\n",
        "y_data_c = y_data_c.replace('positive', 1)\n",
        "y_data_c = y_data_c.replace('negative', 0)"
      ],
      "execution_count": null,
      "outputs": []
    },
    {
      "cell_type": "code",
      "metadata": {
        "id": "lhVxbQm91Ljz"
      },
      "source": [
        "x_tc = token.texts_to_sequences(x_data_c)\n",
        "x_tc = pad_sequences(x_tc, maxlen=max_length, padding='post', truncating='post')"
      ],
      "execution_count": null,
      "outputs": []
    },
    {
      "cell_type": "code",
      "metadata": {
        "id": "9FDQvKJ-1m68"
      },
      "source": [
        "x_tc"
      ],
      "execution_count": null,
      "outputs": []
    },
    {
      "cell_type": "code",
      "metadata": {
        "colab": {
          "base_uri": "https://localhost:8080/"
        },
        "id": "CFSrl60n14s4",
        "outputId": "b5acc8aa-818d-4a25-c359-992f479f3f01"
      },
      "source": [
        "results_c = model.evaluate(x_tc, y_data_c, batch_size=128)\n",
        "print(\"test loss, test acc:\", results_c)"
      ],
      "execution_count": null,
      "outputs": [
        {
          "output_type": "stream",
          "text": [
            "1/1 [==============================] - 0s 23ms/step - loss: 0.0138 - accuracy: 1.0000\n",
            "test loss, test acc: [0.013840725645422935, 1.0]\n"
          ],
          "name": "stdout"
        }
      ]
    },
    {
      "cell_type": "code",
      "metadata": {
        "colab": {
          "base_uri": "https://localhost:8080/"
        },
        "id": "-unbiF0K2NkD",
        "outputId": "111b1439-340d-4c72-c79d-3ac2cb9c0efd"
      },
      "source": [
        "pred = model.predict(x=x_tc)\n",
        "y_pred = (pred >= 0.7) * 1\n",
        "y_pred"
      ],
      "execution_count": null,
      "outputs": [
        {
          "output_type": "execute_result",
          "data": {
            "text/plain": [
              "array([[1],\n",
              "       [0],\n",
              "       [1],\n",
              "       [0],\n",
              "       [1]])"
            ]
          },
          "metadata": {
            "tags": []
          },
          "execution_count": 57
        }
      ]
    }
  ]
}